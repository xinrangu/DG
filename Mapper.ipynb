{
 "cells": [
  {
   "cell_type": "code",
   "execution_count": 26,
   "metadata": {},
   "outputs": [],
   "source": [
    "class Mapper:\n",
    "    def __init__(self,graph,id):\n",
    "        self.id = id\n",
    "        self.container = [[] for i in range(SIDE*SIDE)]\n",
    "        self.__map(graph)\n",
    "        \n",
    "    def get(self,block_id):\n",
    "        return self.container[block_id]\n",
    "    \n",
    "    def __map(self,graph):\n",
    "        for stroke in graph:\n",
    "            self.__stroke(stroke)\n",
    "        \n",
    "    def __stroke(self,stroke):\n",
    "        for i in xrange(len(stroke)-1):\n",
    "            self.__line(stroke[i],stroke[i+1])\n",
    "    \n",
    "    def __line(self,start,end):\n",
    "        k = float(end[1]-start[1])/(end[0]-start[0])\n",
    "        b = start[1]-start[0]*k\n",
    "        grid = [(256/SIDE)*i -1 for i in range (1,SIDE)]     \n",
    "        points = []\n",
    "        for num in grid:\n",
    "            if start[0] < num and num < end[0]:\n",
    "                x=num\n",
    "                y = int(k * x + b)\n",
    "                ed=(x,y)\n",
    "                points.append((x,y))\n",
    "            if start[1] < num and num < end[1]:\n",
    "                y=num\n",
    "                x = int((y-b)/k)\n",
    "                ed=(x,y)\n",
    "                if (x,y) not in points:\n",
    "                    points.append((x,y))\n",
    "        points.sort()\n",
    "        st = start\n",
    "        for point in points:\n",
    "            self.container[int(point[0])/64+int(point[1])/64*SIDE].append([st,point])\n",
    "            st = (point[0]+1,int(k*(point[0]+1)+b))\n",
    "        self.container[int(end[0])/64+int(end[1])/64*SIDE].append([st,end])"
   ]
  },
  {
   "cell_type": "code",
   "execution_count": 29,
   "metadata": {},
   "outputs": [
    {
     "name": "stdout",
     "output_type": "stream",
     "text": [
      "[[(64, 64), (127, 127)]]\n"
     ]
    }
   ],
   "source": [
    "line=[[(0,0),(255,255)]]\n",
    "SIDE = 4\n",
    "maps = Mapper(line,0)\n",
    "print maps.get(5)"
   ]
  },
  {
   "cell_type": "code",
   "execution_count": null,
   "metadata": {
    "collapsed": true
   },
   "outputs": [],
   "source": []
  },
  {
   "cell_type": "code",
   "execution_count": null,
   "metadata": {
    "collapsed": true
   },
   "outputs": [],
   "source": []
  }
 ],
 "metadata": {
  "kernelspec": {
   "display_name": "Python 2",
   "language": "python",
   "name": "python2"
  },
  "language_info": {
   "codemirror_mode": {
    "name": "ipython",
    "version": 2
   },
   "file_extension": ".py",
   "mimetype": "text/x-python",
   "name": "python",
   "nbconvert_exporter": "python",
   "pygments_lexer": "ipython2",
   "version": "2.7.13"
  }
 },
 "nbformat": 4,
 "nbformat_minor": 2
}
