{
 "cells": [
  {
   "cell_type": "code",
   "execution_count": 1,
   "metadata": {
    "collapsed": true
   },
   "outputs": [],
   "source": [
    "import numpy as np\n",
    "import tensorflow as tf\n",
    "\n",
    "import matplotlib.pyplot as plt\n",
    "from db.driver import Driver\n",
    "\n",
    "%matplotlib inline"
   ]
  },
  {
   "cell_type": "code",
   "execution_count": 2,
   "metadata": {
    "collapsed": true
   },
   "outputs": [],
   "source": [
    "driver = Driver()"
   ]
  },
  {
   "cell_type": "code",
   "execution_count": 20,
   "metadata": {
    "collapsed": true
   },
   "outputs": [],
   "source": [
    "def generate_image_matrix(obj):\n",
    "    image = np.zeros((256, 256))\n",
    "    for stroke in obj['drawing']:\n",
    "        for x, y in zip(*stroke):\n",
    "            image[y][x] = 1\n",
    "    return image\n",
    "\n",
    "def draw_from_strokes(obj):\n",
    "    plt.axis('off')\n",
    "    for stroke in obj['drawing']:\n",
    "        stroke[1] = [-x for x in stroke[1]]\n",
    "        plt.plot(*stroke, color='black')\n",
    "    plt.show()\n",
    "\n",
    "def draw_from_matrix(obj):\n",
    "    plt.axis('off')\n",
    "    plt.gca().invert_xaxis()\n",
    "    plt.imshow(generate_image_matrix(obj), cmap='Greys')\n",
    "    plt.show()"
   ]
  },
  {
   "cell_type": "code",
   "execution_count": null,
   "metadata": {
    "collapsed": true
   },
   "outputs": [],
   "source": [
    "airplane_list = list(driver.find_by_catagory('airplane').limit(10))"
   ]
  },
  {
   "cell_type": "code",
   "execution_count": null,
   "metadata": {
    "collapsed": true
   },
   "outputs": [],
   "source": []
  }
 ],
 "metadata": {
  "kernelspec": {
   "display_name": "Python 2",
   "language": "python",
   "name": "python2"
  },
  "language_info": {
   "codemirror_mode": {
    "name": "ipython",
    "version": 2
   },
   "file_extension": ".py",
   "mimetype": "text/x-python",
   "name": "python",
   "nbconvert_exporter": "python",
   "pygments_lexer": "ipython2",
   "version": "2.7.13"
  }
 },
 "nbformat": 4,
 "nbformat_minor": 2
}
